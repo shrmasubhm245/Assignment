{
 "cells": [
  {
   "cell_type": "markdown",
   "id": "c204b376",
   "metadata": {},
   "source": [
    "## Assignment for business analyst internship at Analystt.ai"
   ]
  },
  {
   "cell_type": "markdown",
   "id": "f05fc9b0",
   "metadata": {},
   "source": [
    "1. A developer is assigned a task to scrape 1 lakh website pages from a directory site, while scrapping he is facing such hcaptcha, which are placed to stop people from scrapping As a project Coordinator suggest ways to solve this problem."
   ]
  },
  {
   "cell_type": "markdown",
   "id": "3070396c",
   "metadata": {},
   "source": [
    "Some strategies we can suggest to the developer as a project coordinator:\n",
    "\n",
    "    Contact the Website Owner, Use Proxies, Solve CAPTCHAs Automatically, Delay Requests, Headless Browsing, Recaptcha Solver, Custom CAPTCHA Solvers, Human Interaction, Session Management, Scraping During Off-Peak Hours, Legal and Ethical Considerations, Rate Limiting and Throttling, Data Sampling, Alternative Data Sources, Machine Learning Models"
   ]
  },
  {
   "cell_type": "markdown",
   "id": "752174a8",
   "metadata": {},
   "source": [
    "2. Our client has around 10k linkedin people profiles, he wants to know the estimated income range of these profiles. Suggest ways on how to do this?"
   ]
  },
  {
   "cell_type": "markdown",
   "id": "5e68821f",
   "metadata": {},
   "source": [
    "We can make educated guesses or estimations based on other information available on their profiles. Here are some strategies to consider:\n",
    "\n",
    "i). **Job Title and Company Research**:\n",
    "   - Analyze the job titles and companies listed on the profiles. Different job titles and industries are associated with different income ranges. \n",
    "\n",
    "ii). **Location-Based Estimates**:\n",
    "   - Take into account the location of the profiles. Income can vary significantly based on the cost of living in different regions. Use cost of living data for those regions to estimate income ranges.\n",
    "\n",
    "iii). **Industry Averages**:\n",
    "   - Research industry-specific income data to estimate salaries based on the industries mentioned in the profiles.\n",
    "\n",
    "iv). **Years of Experience**:\n",
    "   - Look for information related to the years of experience in the profiles. Generally, people with more experience earn higher salaries. We can make estimations based on typical income progression.\n",
    "\n",
    "v). **Education**:\n",
    "   - Consider the education level of the profiles. People with higher degrees often earn more. Use education-related salary data to estimate income ranges.\n",
    "\n",
    "vi). **Connect and Inquire**:\n",
    "   - If the profiles are public, we can try connecting with them and sending a polite message inquiring about their income for research purposes. However, this approach may not yield many responses.\n",
    "\n",
    "vii). **Statistical Analysis**:\n",
    "    - If we have a large dataset of LinkedIn profiles, we can perform statistical analysis to estimate income ranges based on available data points like location, job title, and industry."
   ]
  },
  {
   "cell_type": "markdown",
   "id": "2e6ddb31",
   "metadata": {},
   "source": [
    " 3. We have a list of 1L company names, need to find linkedin company links of these profiles, how to go about this?"
   ]
  },
  {
   "cell_type": "code",
   "execution_count": 1,
   "id": "b7e7bf38",
   "metadata": {},
   "outputs": [
    {
     "name": "stdout",
     "output_type": "stream",
     "text": [
      "Company1: LinkedIn profile not found\n",
      "Company2: LinkedIn profile not found\n",
      "Company3: LinkedIn profile not found\n",
      "Ellipsis: LinkedIn profile not found\n"
     ]
    }
   ],
   "source": [
    "import requests\n",
    "from bs4 import BeautifulSoup\n",
    "\n",
    "# List of company names\n",
    "company_names = [\"Company1\", \"Company2\", \"Company3\", ...]\n",
    "\n",
    "company_links = {}\n",
    "\n",
    "for company_name in company_names:\n",
    "    # Prepare the search URL\n",
    "    search_url = f\"https://www.linkedin.com/search/results/companies/?keywords={company_name}\"\n",
    "    \n",
    "    # Send an HTTP GET request to the LinkedIn search page\n",
    "    response = requests.get(search_url)\n",
    "    \n",
    "    # Parse the HTML content of the search results page\n",
    "    soup = BeautifulSoup(response.text, 'html.parser')\n",
    "    \n",
    "    # Extract the company profile link (if available)\n",
    "    profile_link = soup.find(\"a\", class_=\"app-aware-link\")\n",
    "    \n",
    "    if profile_link:\n",
    "        company_links[company_name] = \"https://www.linkedin.com\" + profile_link.get(\"href\")\n",
    "    else:\n",
    "        company_links[company_name] = \"LinkedIn profile not found\"\n",
    "\n",
    "# Print the resulting company links\n",
    "for company_name, company_link in company_links.items():\n",
    "    print(f\"{company_name}: {company_link}\")\n"
   ]
  },
  {
   "cell_type": "markdown",
   "id": "aac92c65",
   "metadata": {},
   "source": [
    "4. How to identify list of companies whose tech stack is built on Python. Give names of 5 companies if possible, by your suggested approach"
   ]
  },
  {
   "cell_type": "code",
   "execution_count": 2,
   "id": "bc3a1c1e",
   "metadata": {},
   "outputs": [],
   "source": [
    "import requests\n",
    "from bs4 import BeautifulSoup\n",
    "\n",
    "# Define the URL of the job search page\n",
    "url = \"https://www.indeed.com/jobs?q=python&l=\"  # You can modify the location and query as needed\n",
    "\n",
    "# Send an HTTP GET request to the job search page\n",
    "response = requests.get(url)\n",
    "\n",
    "# Parse the HTML content of the page\n",
    "soup = BeautifulSoup(response.text, 'html.parser')\n",
    "\n",
    "# Find job listings on the page\n",
    "job_listings = soup.find_all('div', class_='jobsearch-SerpJobCard')\n",
    "\n",
    "# Define keywords related to Python in the job descriptions\n",
    "python_keywords = [\"python developer\", \"python engineer\", \"python programmer\", \"python software\", \"django\", \"flask\"]\n",
    "\n",
    "# Create an empty list to store companies that mention Python\n",
    "python_companies = []\n",
    "\n",
    "# Iterate through job listings and extract company names\n",
    "for job_listing in job_listings:\n",
    "    job_description = job_listing.find('div', class_='summary').text.lower()\n",
    "    company_name = job_listing.find('span', class_='company').text.strip()\n",
    "    \n",
    "    # Check if the job description mentions Python-related keywords\n",
    "    if any(keyword in job_description for keyword in python_keywords):\n",
    "        python_companies.append(company_name)\n",
    "\n",
    "# Remove duplicates by converting the list to a set and back to a list\n",
    "python_companies = list(set(python_companies))\n",
    "\n",
    "# Print the list of companies that mention Python in their job listings\n",
    "for i, company in enumerate(python_companies[:5]):\n",
    "    print(f\"{i + 1}. {company}\")\n",
    "\n",
    "# Note: This code provides a list of companies that mention Python in their job listings on Indeed. Keep in mind that this is not an exhaustive or comprehensive way to identify companies using Python in their tech stack.\n"
   ]
  },
  {
   "cell_type": "markdown",
   "id": "f6be47cf",
   "metadata": {},
   "source": [
    "5. Need to find an API, through which we can send linkedin messages to other linkedin users"
   ]
  },
  {
   "cell_type": "markdown",
   "id": "c7121a19",
   "metadata": {},
   "source": [
    "LinkedIn's messaging system is considered private, and automated messaging without user consent is generally not allowed by LinkedIn's terms of service. Attempting to automate messages without consent could result in account suspension or other penalties.\n",
    "\n",
    "If we want to send messages to other LinkedIn users, it's best to do it manually through the LinkedIn website or mobile app, respecting LinkedIn's user agreement and privacy policies.\n",
    "\n",
    "Please note that API availability and policies can change over time, so it's a good practice to check LinkedIn's official developer documentation or contact their developer support for the most up-to-date information regarding API capabilities and usage policies."
   ]
  },
  {
   "cell_type": "code",
   "execution_count": null,
   "id": "c13dcb49",
   "metadata": {},
   "outputs": [],
   "source": []
  }
 ],
 "metadata": {
  "kernelspec": {
   "display_name": "Python 3 (ipykernel)",
   "language": "python",
   "name": "python3"
  },
  "language_info": {
   "codemirror_mode": {
    "name": "ipython",
    "version": 3
   },
   "file_extension": ".py",
   "mimetype": "text/x-python",
   "name": "python",
   "nbconvert_exporter": "python",
   "pygments_lexer": "ipython3",
   "version": "3.10.9"
  }
 },
 "nbformat": 4,
 "nbformat_minor": 5
}
